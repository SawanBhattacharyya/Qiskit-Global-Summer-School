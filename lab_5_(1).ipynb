{
  "cells": [
    {
      "cell_type": "markdown",
      "metadata": {
        "id": "view-in-github",
        "colab_type": "text"
      },
      "source": [
        "<a href=\"https://colab.research.google.com/github/SawanBhattacharyya/Qiskit-Global-Summer-School/blob/main/lab_5_(1).ipynb\" target=\"_parent\"><img src=\"https://colab.research.google.com/assets/colab-badge.svg\" alt=\"Open In Colab\"/></a>"
      ]
    },
    {
      "cell_type": "markdown",
      "id": "1f3c150e",
      "metadata": {
        "id": "1f3c150e"
      },
      "source": [
        "<div>\n",
        "<img src=\"attachment:qgssqml2021wordmark.png\"/>\n",
        "</div>"
      ]
    },
    {
      "cell_type": "markdown",
      "id": "aa4cd26b",
      "metadata": {
        "id": "aa4cd26b"
      },
      "source": [
        "In this lab, you will see how noise affects a typical parameterized quantum circuit used in machine learning using quantum process tomography. "
      ]
    },
    {
      "cell_type": "markdown",
      "id": "f3c12c4d",
      "metadata": {
        "id": "f3c12c4d"
      },
      "source": [
        "<div class=\"alert alert-danger\" role=\"alert\">\n",
        "For grading purposes, please specify all simulator arguments (<i>noise_model=noise_thermal, seed_simulator=3145, seed_transpiler=3145, shots=8192</i>) in the <b><i>execute</i></b> function.\n",
        "</div>"
      ]
    },
    {
      "cell_type": "code",
      "execution_count": null,
      "id": "3f7f706f",
      "metadata": {
        "id": "3f7f706f"
      },
      "outputs": [],
      "source": [
        "# General tools\n",
        "import numpy as np\n",
        "import matplotlib.pyplot as plt\n",
        "\n",
        "# Qiskit Circuit Functions\n",
        "from qiskit import  execute,QuantumCircuit, QuantumRegister, ClassicalRegister, Aer, transpile\n",
        "import qiskit.quantum_info as qi\n",
        "\n",
        "# Tomography functions\n",
        "from qiskit.ignis.verification.tomography import process_tomography_circuits, ProcessTomographyFitter\n",
        "from qiskit.ignis.mitigation.measurement import complete_meas_cal, CompleteMeasFitter\n",
        "\n",
        "import warnings \n",
        "warnings.filterwarnings('ignore')"
      ]
    },
    {
      "cell_type": "markdown",
      "id": "cd7092aa",
      "metadata": {
        "id": "cd7092aa"
      },
      "source": [
        "### Question 1\n",
        "- Make this Quantum Circuit\n",
        "\n",
        "<div>\n",
        "<img src=\"attachment:lab5ex1.png\"/>\n",
        "</div>"
      ]
    },
    {
      "cell_type": "code",
      "execution_count": null,
      "id": "64f662ee",
      "metadata": {
        "id": "64f662ee"
      },
      "outputs": [],
      "source": [
        "target = QuantumCircuit(2)\n",
        "target = QuantumCircuit(2)\n",
        "for i in range(0,2):\n",
        "    target.h(i)\n",
        "    target.rx(np.pi/2,i)\n",
        "target.cx(0,1)\n",
        "target.p(np.pi,1)\n",
        "target.cx(0,1)\n",
        "target.draw()\n",
        "\n",
        "#target = # YOUR CODE HERE\n",
        "target_unitary = qi.Operator(target)"
      ]
    },
    {
      "cell_type": "code",
      "execution_count": null,
      "id": "d2ded9b7",
      "metadata": {
        "id": "d2ded9b7",
        "outputId": "8582227a-3cba-458e-fb00-db71fa8bff4f"
      },
      "outputs": [
        {
          "name": "stdout",
          "output_type": "stream",
          "text": [
            "Submitting your answer for lab5/ex1. Please wait...\n",
            "Congratulations 🎉! Your answer is correct and has been submitted.\n"
          ]
        }
      ],
      "source": [
        "from qc_grader import grade_lab5_ex1\n",
        "\n",
        "# Note that the grading function is expecting a quantum circuit with no measurements\n",
        "grade_lab5_ex1(target)"
      ]
    },
    {
      "cell_type": "markdown",
      "id": "a7eb9b5c",
      "metadata": {
        "id": "a7eb9b5c"
      },
      "source": [
        "# Quantum Process Tomography with Only Shot Noise\n",
        "Here we will now use the `qasm_simulator` to simulate a Quantum Process Tomography Circuit\n",
        "\n",
        "### Question 2a\n",
        "- Using the Process Tomography Circuits function built into qiskit, create the set of circuits to do quantum process tomography and simulation with a qasm simulator (with shot noise only). For this please use the execute function of the QPT Circuits with `seed_simulator=3145`, `seed_transpiler=3145` and `shots=8192`. \n",
        "\n",
        "\n",
        "- _Hint: The appropriate function, <a href=\"https://qiskit.org/documentation/stubs/qiskit.ignis.verification.process_tomography_circuits.html\">process_tomography_circuits</a>, has been imported above. When complete you should have a total of 144 circuits that are given to the `qasm_simulator` via the `execute` function. You can find out the number of circuits created using `len(qpt_circs)`._"
      ]
    },
    {
      "cell_type": "code",
      "execution_count": null,
      "id": "ba0601d4",
      "metadata": {
        "id": "ba0601d4"
      },
      "outputs": [],
      "source": [
        "\n",
        "simulator = Aer.get_backend('qasm_simulator')\n",
        "qpt_circs = process_tomography_circuits(target, measured_qubits= [0,1] )\n",
        "qpt_job = execute(qpt_circs,simulator,seed_simulator=3145,seed_transpiler=3145,shots=8192)\n",
        "qpt_result = qpt_job.result()\n",
        "\n"
      ]
    },
    {
      "cell_type": "markdown",
      "id": "e6a29a8f",
      "metadata": {
        "id": "e6a29a8f"
      },
      "source": [
        "### Question 2b\n",
        "- Using a least squares fitting method for the Process Tomography Fitter, determine the fidelity of your target unitary\n",
        "\n",
        "\n",
        "\n",
        "- _Hint: First use the <a href=\"https://qiskit.org/documentation/stubs/qiskit.ignis.verification.ProcessTomographyFitter.html\">ProcessTomographyFitter</a> function above to process the results from question 2a and use ProcessTomographyFitter.fit(method='....') to extract the \"Choi Matrix\", which effectively describes the measured unitary operation.  From here you will use the <a href=\"https://qiskit.org/documentation/stubs/qiskit.quantum_info.average_gate_fidelity.html#qiskit.quantum_info.average_gate_fidelity\">average_gate_fidelity</a> function from the quantum information module to extract the achieved fidelity of your results_"
      ]
    },
    {
      "cell_type": "code",
      "execution_count": null,
      "id": "f9d2d9d4",
      "metadata": {
        "id": "f9d2d9d4",
        "outputId": "5a7003c5-be35-4f21-b8b5-49b251e20ce4"
      },
      "outputs": [
        {
          "name": "stdout",
          "output_type": "stream",
          "text": [
            "0.9926697818280223\n"
          ]
        }
      ],
      "source": [
        "x = ProcessTomographyFitter(qpt_result, qpt_circs)\n",
        "mat = x.fit(method='lstsq')\n",
        "fidelity = qi.average_gate_fidelity(mat, target_unitary)\n",
        "print(fidelity)"
      ]
    },
    {
      "cell_type": "code",
      "execution_count": null,
      "id": "c0e415d2",
      "metadata": {
        "id": "c0e415d2",
        "outputId": "9c77683b-202a-4258-b5bb-4688539d0495"
      },
      "outputs": [
        {
          "name": "stdout",
          "output_type": "stream",
          "text": [
            "Submitting your answer for lab5/ex2. Please wait...\n",
            "Congratulations 🎉! Your answer is correct and has been submitted.\n"
          ]
        }
      ],
      "source": [
        "from qc_grader import grade_lab5_ex2\n",
        "\n",
        "# Note that the grading function is expecting a floating point number\n",
        "grade_lab5_ex2(fidelity)"
      ]
    },
    {
      "cell_type": "markdown",
      "id": "b2cd28c6",
      "metadata": {
        "id": "b2cd28c6"
      },
      "source": [
        "# Quantum Process Tomography with a T1/T2 Noise Model\n",
        "For the sake of consistency, let's set some values to characterize the duration of our gates and T1/T2 times:"
      ]
    },
    {
      "cell_type": "code",
      "execution_count": null,
      "id": "3448d496",
      "metadata": {
        "id": "3448d496"
      },
      "outputs": [],
      "source": [
        "# T1 and T2 values for qubits 0-3\n",
        "T1s = [15000, 19000, 22000, 14000]\n",
        "T2s = [30000, 25000, 18000, 28000]\n",
        "\n",
        "# Instruction times (in nanoseconds)\n",
        "time_u1 = 0   # virtual gate\n",
        "time_u2 = 50  # (single X90 pulse)\n",
        "time_u3 = 100 # (two X90 pulses)\n",
        "time_cx = 300\n",
        "time_reset = 1000  # 1 microsecond\n",
        "time_measure = 1000 # 1 microsecond"
      ]
    },
    {
      "cell_type": "code",
      "execution_count": null,
      "id": "a22527dc",
      "metadata": {
        "id": "a22527dc"
      },
      "outputs": [],
      "source": [
        "from qiskit.providers.aer.noise import thermal_relaxation_error\n",
        "from qiskit.providers.aer.noise import NoiseModel"
      ]
    },
    {
      "cell_type": "markdown",
      "id": "5e755524",
      "metadata": {
        "id": "5e755524"
      },
      "source": [
        "### Question 3\n",
        "- Using the Thermal Relaxation Error model built into qiskit, define `u1`,`u2`,`u3`, `cx`, `measure` and `reset` errors using the values for qubits 0-3 defined above, and build a thermal noise model.\n",
        "\n",
        "\n",
        "- _Hint: The Qiskit tutorial on <a href=\"https://github.com/Qiskit/qiskit-tutorials/blob/master/tutorials/simulators/3_building_noise_models.ipynb\">building noise models</a>  will prove to be useful, particularly where they add quantum errors for `u1`,`u2`,`u3`,`cx`, `reset`, and `measure` errors (please include all of these)._"
      ]
    },
    {
      "cell_type": "code",
      "execution_count": null,
      "id": "0cf5117e",
      "metadata": {
        "id": "0cf5117e",
        "outputId": "d0ab710c-430c-4fda-b72b-7b7dc5b9fe33"
      },
      "outputs": [
        {
          "name": "stdout",
          "output_type": "stream",
          "text": [
            "NoiseModel:\n",
            "  Basis gates: ['cx', 'id', 'u2', 'u3']\n",
            "  Instructions with noise: ['u3', 'u2', 'cx', 'reset', 'measure']\n",
            "  Qubits with noise: [0, 1, 2, 3]\n",
            "  Specific qubit errors: [('reset', [0]), ('reset', [1]), ('reset', [2]), ('reset', [3]), ('measure', [0]), ('measure', [1]), ('measure', [2]), ('measure', [3]), ('u2', [0]), ('u2', [1]), ('u2', [2]), ('u2', [3]), ('u3', [0]), ('u3', [1]), ('u3', [2]), ('u3', [3]), ('cx', [0, 0]), ('cx', [0, 1]), ('cx', [0, 2]), ('cx', [0, 3]), ('cx', [1, 0]), ('cx', [1, 1]), ('cx', [1, 2]), ('cx', [1, 3]), ('cx', [2, 0]), ('cx', [2, 1]), ('cx', [2, 2]), ('cx', [2, 3]), ('cx', [3, 0]), ('cx', [3, 1]), ('cx', [3, 2]), ('cx', [3, 3])]\n"
          ]
        }
      ],
      "source": [
        "# QuantumError objects\n",
        "errors_reset = [thermal_relaxation_error(t1, t2, time_reset)\n",
        "                for t1, t2 in zip(T1s, T2s)]\n",
        "errors_measure = [thermal_relaxation_error(t1, t2, time_measure)\n",
        "                  for t1, t2 in zip(T1s, T2s)]\n",
        "errors_u1  = [thermal_relaxation_error(t1, t2, time_u1)\n",
        "              for t1, t2 in zip(T1s, T2s)]\n",
        "errors_u2  = [thermal_relaxation_error(t1, t2, time_u2)\n",
        "              for t1, t2 in zip(T1s, T2s)]\n",
        "errors_u3  = [thermal_relaxation_error(t1, t2, time_u3)\n",
        "              for t1, t2 in zip(T1s, T2s)]\n",
        "errors_cx = [[thermal_relaxation_error(t1a, t2a, time_cx).expand(\n",
        "             thermal_relaxation_error(t1b, t2b, time_cx))\n",
        "              for t1a, t2a in zip(T1s, T2s)]\n",
        "               for t1b, t2b in zip(T1s, T2s)]\n",
        "\n",
        "# Add errors to noise model\n",
        "noise_thermal= NoiseModel()\n",
        "for j in range(4):\n",
        "    noise_thermal.add_quantum_error(errors_reset[j], \"reset\", [j])\n",
        "    noise_thermal.add_quantum_error(errors_measure[j], \"measure\", [j])\n",
        "    noise_thermal.add_quantum_error(errors_u1[j], \"u1\", [j])\n",
        "    noise_thermal.add_quantum_error(errors_u2[j], \"u2\", [j])\n",
        "    noise_thermal.add_quantum_error(errors_u3[j], \"u3\", [j])\n",
        "    \n",
        "    for k in range(4):\n",
        "        noise_thermal.add_quantum_error(errors_cx[j][k], \"cx\", [j,k])\n",
        "# YOUR CODE HERE\n",
        "print(noise_thermal)"
      ]
    },
    {
      "cell_type": "code",
      "execution_count": null,
      "id": "4b9125f4",
      "metadata": {
        "id": "4b9125f4",
        "outputId": "8f2c0deb-eb4f-4a6d-892f-8ed45c63f345"
      },
      "outputs": [
        {
          "name": "stdout",
          "output_type": "stream",
          "text": [
            "Submitting your answer for lab5/ex3. Please wait...\n",
            "Congratulations 🎉! Your answer is correct and has been submitted.\n"
          ]
        }
      ],
      "source": [
        "from qc_grader import grade_lab5_ex3\n",
        "\n",
        "# Note that the grading function is expecting a NoiseModel\n",
        "grade_lab5_ex3(noise_thermal)"
      ]
    },
    {
      "cell_type": "markdown",
      "id": "c94f2b3e",
      "metadata": {
        "id": "c94f2b3e"
      },
      "source": [
        "### Question 4.\n",
        "- Get a QPT fidelity using the noise model,but without using any error mitigation techniques.  Again, use `seed_simulator=3145`, `seed_transpiler=3145` and `shots=8192` for the `execute` function\n",
        "\n",
        "\n",
        "\n",
        "- _Hint: The process here should be very similar to that in question 2a/b, except you will need to ensure you include the noise model from question 3 in the `execute` function_"
      ]
    },
    {
      "cell_type": "code",
      "execution_count": null,
      "id": "e88d8139",
      "metadata": {
        "id": "e88d8139"
      },
      "outputs": [],
      "source": [
        "np.random.seed(0)\n",
        "\n",
        "# YOUR CODE HERE\n",
        "qpt_job = execute(qpt_circs, simulator, seed_simulator=3145, seed_transpiler=3145, noise_model =noise_thermal, shots=8192)\n",
        "qpt_result = qpt_job.result()\n",
        "process_results = ProcessTomographyFitter(qpt_result, qpt_circs)\n",
        "choi_matrix = process_results.fit(method = 'lstsq')\n",
        "fidelity = qi.average_gate_fidelity(choi_matrix, target)"
      ]
    },
    {
      "cell_type": "code",
      "execution_count": null,
      "id": "bc0e2b25",
      "metadata": {
        "id": "bc0e2b25",
        "outputId": "1b8ff648-d2aa-4658-c762-22e1c3cd7a3a"
      },
      "outputs": [
        {
          "name": "stdout",
          "output_type": "stream",
          "text": [
            "Submitting your answer for lab5/ex4. Please wait...\n",
            "Congratulations 🎉! Your answer is correct and has been submitted.\n"
          ]
        }
      ],
      "source": [
        "from qc_grader import grade_lab5_ex4\n",
        "\n",
        "# Note that the grading function is expecting a floating point number\n",
        "grade_lab5_ex4(fidelity)"
      ]
    },
    {
      "cell_type": "markdown",
      "id": "c8d66ec6",
      "metadata": {
        "id": "c8d66ec6"
      },
      "source": [
        "### Question 5. \n",
        "- Use the `complete_meas_cal` function built into qiskit and apply to the QPT results in the previous question. For both, use the `execute` function and `seed_simulator=3145`, `seed_transpiler=3145` and `shots=8192`. Also include the noise model from question 3 in the `execute` function.\n",
        "\n",
        "\n",
        "- *Hint: The Qiskit textbook has a very good chapter on <a href=\"https://qiskit.org/textbook/ch-quantum-hardware/measurement-error-mitigation.html\">`readout error mitigation`</a>. Specifically, you will want to use the <a href=\"https://qiskit.org/documentation/stubs/qiskit.ignis.mitigation.complete_meas_cal.html\">`complete_meas_cal`</a>  function to generate the desired set of circuits to create the calibration matrix with <a href=\"https://qiskit.org/documentation/stubs/qiskit.ignis.mitigation.CompleteMeasFitter.html\">`CompleteMeasureFitter`</a> function. This can then be used to generate a correction matrix <a href=\"https://qiskit.org/documentation/stubs/qiskit.ignis.mitigation.CompleteMeasFitter.html#qiskit.ignis.mitigation.CompleteMeasFitter.filter\">`meas_filter`</a>. Apply this function to the results from question 4.*"
      ]
    },
    {
      "cell_type": "code",
      "execution_count": null,
      "id": "170d42fe",
      "metadata": {
        "id": "170d42fe",
        "outputId": "54775c9b-936e-445b-ca56-81df30b29e05"
      },
      "outputs": [
        {
          "name": "stdout",
          "output_type": "stream",
          "text": [
            "Traceback \u001b[1;36m(most recent call last)\u001b[0m:\n",
            "\u001b[1;36m  File \u001b[1;32m\"<ipython-input-48-eaef87db1c5b>\"\u001b[1;36m, line \u001b[1;32m7\u001b[1;36m, in \u001b[1;35m<module>\u001b[1;36m\u001b[0m\n",
            "\u001b[1;33m    mit_result=meas_filter.apply(noisy_qpt_result)\u001b[0m\n",
            "\u001b[1;31mNameError\u001b[0m\u001b[1;31m:\u001b[0m name 'noisy_qpt_result' is not defined\n",
            "\n",
            "Use %tb to get the full traceback.\n"
          ]
        },
        {
          "data": {
            "text/html": [
              "\n",
              "<style>\n",
              ".button {\n",
              "  border: none;\n",
              "  color: white;\n",
              "  padding: 4px 8px;\n",
              "  text-align: center;\n",
              "  text-decoration: none;\n",
              "  display: inline-block;\n",
              "  font-size: 12px;\n",
              "  margin: 4px 2px;\n",
              "  transition-duration: 0.2s;\n",
              "  cursor: pointer;\n",
              "}\n",
              ".iqx-button {\n",
              "  background-color: #0f62fe; \n",
              "  color: white; \n",
              "}\n",
              ".iqx-button:hover {\n",
              "  background-color: #0043ce;\n",
              "  color: white;\n",
              "}\n",
              "</style>\n",
              "<a href=\"https://stackoverflow.com/search?q=NameError: name 'noisy_qpt_result' is not defined\" target='_blank'><button class='button iqx-button'>Search for solution online</button></a>\n"
            ],
            "text/plain": [
              "<IPython.core.display.HTML object>"
            ]
          },
          "metadata": {},
          "output_type": "display_data"
        }
      ],
      "source": [
        "np.random.seed(0)\n",
        "meas_qpt_circs, state_labels=complete_meas_cal(qubit_list=[0,1])\n",
        "meas_qpt_job=execute(meas_qpt_circs,simulator,seed_simulator=3145,seed_transpiler=3145,shots=8192,noise_model=noise_thermal)\n",
        "meas_qpt_result=meas_qpt_job.result()\n",
        "meas_fitter=CompleteMeasFitter(meas_qpt_result, state_labels)\n",
        "meas_filter=meas_fitter.filter\n",
        "mit_result=meas_filter.apply(noisy_qpt_result)\n",
        "mit_tomo=ProcessTomographyFitter(mit_result, qpt_circs)\n",
        "mit_lst=mit_tomo.fit(method='lstsq')\n",
        "fidelity=qi.average_gate_fidelity(mit_lst, target_unitary)"
      ]
    },
    {
      "cell_type": "code",
      "execution_count": null,
      "id": "864714de",
      "metadata": {
        "id": "864714de",
        "outputId": "a8699113-ec09-4699-efff-c09134b16ccf"
      },
      "outputs": [
        {
          "name": "stdout",
          "output_type": "stream",
          "text": [
            "Submitting your answer for lab5/ex5. Please wait...\n",
            "Oops 😕! Your answer is incorrect\n",
            "Please review your answer and try again.\n"
          ]
        }
      ],
      "source": [
        "from qc_grader import grade_lab5_ex5\n",
        "\n",
        "# Note that the grading function is expecting a floating point number\n",
        "grade_lab5_ex5(fidelity)"
      ]
    },
    {
      "cell_type": "markdown",
      "id": "4ae0c0e1",
      "metadata": {
        "id": "4ae0c0e1"
      },
      "source": [
        "### Exploratory Question 6.\n",
        "- Test how the gate fidelity depends on the CX duration by running noise models with varying cx durations (but leaving everything else fixed).  \n",
        "\n",
        "(Note: this would ideally be done using the scaling technique discussed in the previous lecture, but due to backend availability limitations we are instead demonstrating the effect by adjusting duration of the CX itself.  This is not exactly how this is implemented on the hardware itself as the gates are not full CX gates.)"
      ]
    },
    {
      "cell_type": "code",
      "execution_count": null,
      "id": "ba88a91f",
      "metadata": {
        "id": "ba88a91f"
      },
      "outputs": [],
      "source": [
        ""
      ]
    }
  ],
  "metadata": {
    "kernelspec": {
      "display_name": "Python 3",
      "language": "python",
      "name": "python3"
    },
    "language_info": {
      "codemirror_mode": {
        "name": "ipython",
        "version": 3
      },
      "file_extension": ".py",
      "mimetype": "text/x-python",
      "name": "python",
      "nbconvert_exporter": "python",
      "pygments_lexer": "ipython3",
      "version": "3.8.10"
    },
    "colab": {
      "name": "lab-5 (1).ipynb",
      "provenance": [],
      "include_colab_link": true
    }
  },
  "nbformat": 4,
  "nbformat_minor": 5
}